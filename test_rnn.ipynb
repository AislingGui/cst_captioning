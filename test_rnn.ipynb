{
 "cells": [
  {
   "cell_type": "code",
   "execution_count": 31,
   "metadata": {
    "collapsed": false
   },
   "outputs": [],
   "source": [
    "import torch\n",
    "import torch.nn as nn\n",
    "from torch.autograd import Variable\n",
    "\n",
    "batch_size = 3\n",
    "max_length = 3\n",
    "hidden_size = 2\n",
    "n_layers =1\n",
    "\n",
    "# container\n",
    "batch_in = torch.zeros((batch_size, 1, max_length))\n",
    "\n",
    "#data\n",
    "vec_1 = torch.FloatTensor([[1, 2, 3]])\n",
    "vec_2 = torch.FloatTensor([[1, 2, 0]])\n",
    "vec_3 = torch.FloatTensor([[1, 0, 0]])\n",
    "\n",
    "batch_in[0] = vec_1\n",
    "batch_in[1] = vec_2\n",
    "batch_in[2] = vec_1\n",
    "\n",
    "batch_in = Variable(batch_in)\n",
    "\n",
    "seq_lengths = [3,2,1] # list of integers holding information about the batch size at each sequence step\n",
    "\n",
    "# pack it\n",
    "pack = torch.nn.utils.rnn.pack_padded_sequence(batch_in, seq_lengths, batch_first=True)\n",
    "\n",
    "# initialize\n",
    "rnn = nn.RNN(max_length, hidden_size, n_layers, batch_first=True) \n",
    "h0 = Variable(torch.randn(n_layers, batch_size, hidden_size))\n",
    "\n",
    "#forward \n",
    "out, _ = rnn(pack, h0)\n",
    "\n",
    "# unpack\n",
    "unpacked, unpacked_len = torch.nn.utils.rnn.pad_packed_sequence(out)"
   ]
  },
  {
   "cell_type": "code",
   "execution_count": 40,
   "metadata": {
    "collapsed": false
   },
   "outputs": [
    {
     "data": {
      "text/plain": [
       "\n",
       " 0.4269  0.2858  0.0225\n",
       " 0.8391  0.4201  0.0365\n",
       "[torch.FloatTensor of size 2x3]"
      ]
     },
     "execution_count": 40,
     "metadata": {},
     "output_type": "execute_result"
    }
   ],
   "source": [
    "a1 = torch.rand(2,1,3)\n",
    "a2 = torch.rand(2,1,3)\n",
    "torch.cat([a1], 1).squeeze(1)"
   ]
  },
  {
   "cell_type": "code",
   "execution_count": 48,
   "metadata": {
    "collapsed": false
   },
   "outputs": [
    {
     "data": {
      "text/plain": [
       "Variable containing:\n",
       " 0.2871  0.3948  0.3181\n",
       " 0.3852  0.2942  0.3206\n",
       "[torch.FloatTensor of size 2x3]"
      ]
     },
     "execution_count": 48,
     "metadata": {},
     "output_type": "execute_result"
    }
   ],
   "source": [
    "a = Variable(torch.rand(2,3))\n",
    "nn.Softmax()(nn.Tanh()(a))"
   ]
  },
  {
   "cell_type": "code",
   "execution_count": 77,
   "metadata": {
    "collapsed": false
   },
   "outputs": [
    {
     "ename": "RuntimeError",
     "evalue": "The expanded size of the tensor (-1) must match the existing size (2) at               non-singleton dimension 0. at /py/conda-bld/pytorch_1493676237139/work/torch/lib/TH/THStorage.c:99",
     "output_type": "error",
     "traceback": [
      "\u001b[1;31m---------------------------------------------------------------------------\u001b[0m",
      "\u001b[1;31mRuntimeError\u001b[0m                              Traceback (most recent call last)",
      "\u001b[1;32m<ipython-input-77-de99a306b542>\u001b[0m in \u001b[0;36m<module>\u001b[1;34m()\u001b[0m\n\u001b[0;32m      1\u001b[0m \u001b[0ma\u001b[0m \u001b[1;33m=\u001b[0m \u001b[0mtorch\u001b[0m\u001b[1;33m.\u001b[0m\u001b[0mrand\u001b[0m\u001b[1;33m(\u001b[0m\u001b[1;36m2\u001b[0m\u001b[1;33m,\u001b[0m\u001b[1;36m3\u001b[0m\u001b[1;33m)\u001b[0m\u001b[1;33m\u001b[0m\u001b[0m\n\u001b[1;32m----> 2\u001b[1;33m \u001b[0ma\u001b[0m\u001b[1;33m.\u001b[0m\u001b[0munsqueeze\u001b[0m\u001b[1;33m(\u001b[0m\u001b[1;36m2\u001b[0m\u001b[1;33m)\u001b[0m\u001b[1;33m.\u001b[0m\u001b[0mexpand\u001b[0m\u001b[1;33m(\u001b[0m\u001b[1;33m-\u001b[0m\u001b[1;36m1\u001b[0m\u001b[1;33m,\u001b[0m\u001b[1;36m3\u001b[0m\u001b[1;33m,\u001b[0m\u001b[1;36m10\u001b[0m\u001b[1;33m)\u001b[0m\u001b[1;33m\u001b[0m\u001b[0m\n\u001b[0m",
      "\u001b[1;31mRuntimeError\u001b[0m: The expanded size of the tensor (-1) must match the existing size (2) at               non-singleton dimension 0. at /py/conda-bld/pytorch_1493676237139/work/torch/lib/TH/THStorage.c:99"
     ]
    }
   ],
   "source": [
    "a = torch.rand(2,3)\n",
    "a.unsqueeze(2).expand(-1,3,10)"
   ]
  },
  {
   "cell_type": "code",
   "execution_count": 75,
   "metadata": {
    "collapsed": false
   },
   "outputs": [
    {
     "data": {
      "text/plain": [
       "\n",
       "(0 ,.,.) = \n",
       "\n",
       "Columns 0 to 8 \n",
       "   0.7523  0.7523  0.7523  0.7523  0.7523  0.7523  0.7523  0.7523  0.7523\n",
       "  0.9241  0.9241  0.9241  0.9241  0.9241  0.9241  0.9241  0.9241  0.9241\n",
       "  0.7235  0.7235  0.7235  0.7235  0.7235  0.7235  0.7235  0.7235  0.7235\n",
       "\n",
       "Columns 9 to 9 \n",
       "   0.7523\n",
       "  0.9241\n",
       "  0.7235\n",
       "\n",
       "(1 ,.,.) = \n",
       "\n",
       "Columns 0 to 8 \n",
       "   0.8373  0.8373  0.8373  0.8373  0.8373  0.8373  0.8373  0.8373  0.8373\n",
       "  0.8321  0.8321  0.8321  0.8321  0.8321  0.8321  0.8321  0.8321  0.8321\n",
       "  0.8590  0.8590  0.8590  0.8590  0.8590  0.8590  0.8590  0.8590  0.8590\n",
       "\n",
       "Columns 9 to 9 \n",
       "   0.8373\n",
       "  0.8321\n",
       "  0.8590\n",
       "[torch.FloatTensor of size 2x3x10]"
      ]
     },
     "execution_count": 75,
     "metadata": {},
     "output_type": "execute_result"
    }
   ],
   "source": [
    "a.unsqueeze(2).expand(2,3,10)"
   ]
  },
  {
   "cell_type": "code",
   "execution_count": 74,
   "metadata": {
    "collapsed": false
   },
   "outputs": [],
   "source": [
    "a = torch.rand(2,3)\n",
    "b = torch.rand(2,3, 4)"
   ]
  },
  {
   "cell_type": "code",
   "execution_count": 71,
   "metadata": {
    "collapsed": false
   },
   "outputs": [
    {
     "data": {
      "text/plain": [
       "\n",
       "(0 ,.,.) = \n",
       "  0.0220  0.6247  0.6839  0.8686\n",
       "  0.5265  0.7991  0.5415  0.1438\n",
       "  0.0959  0.5632  0.4774  0.4991\n",
       "\n",
       "(1 ,.,.) = \n",
       "  0.1399  0.6097  0.0433  0.7245\n",
       "  0.3218  0.4379  0.1157  0.3499\n",
       "  0.1669  0.0023  0.3491  0.2638\n",
       "[torch.FloatTensor of size 2x3x4]"
      ]
     },
     "execution_count": 71,
     "metadata": {},
     "output_type": "execute_result"
    }
   ],
   "source": [
    "a.us"
   ]
  },
  {
   "cell_type": "code",
   "execution_count": 72,
   "metadata": {
    "collapsed": false
   },
   "outputs": [
    {
     "data": {
      "text/plain": [
       "\n",
       "(0 ,.,.) = \n",
       "  0.2294  0.7332  0.8371  0.4197\n",
       "  0.8971  0.2885  0.2770  0.2739\n",
       "  0.6885  0.9917  0.0160  0.0980\n",
       "\n",
       "(1 ,.,.) = \n",
       "  0.0205  0.5395  0.3237  0.5707\n",
       "  0.4689  0.2672  0.3061  0.6412\n",
       "  0.6118  0.8404  0.1180  0.5052\n",
       "[torch.FloatTensor of size 2x3x4]"
      ]
     },
     "execution_count": 72,
     "metadata": {},
     "output_type": "execute_result"
    }
   ],
   "source": [
    "b"
   ]
  },
  {
   "cell_type": "code",
   "execution_count": 73,
   "metadata": {
    "collapsed": false
   },
   "outputs": [
    {
     "data": {
      "text/plain": [
       "\n",
       "(0 ,.,.) = \n",
       "  0.0051  0.4580  0.5725  0.3646\n",
       "  0.4724  0.2305  0.1500  0.0394\n",
       "  0.0660  0.5585  0.0076  0.0489\n",
       "\n",
       "(1 ,.,.) = \n",
       "  0.0029  0.3289  0.0140  0.4134\n",
       "  0.1509  0.1170  0.0354  0.2243\n",
       "  0.1021  0.0019  0.0412  0.1333\n",
       "[torch.FloatTensor of size 2x3x4]"
      ]
     },
     "execution_count": 73,
     "metadata": {},
     "output_type": "execute_result"
    }
   ],
   "source": [
    "a*b"
   ]
  },
  {
   "cell_type": "code",
   "execution_count": null,
   "metadata": {
    "collapsed": true
   },
   "outputs": [],
   "source": []
  }
 ],
 "metadata": {
  "kernelspec": {
   "display_name": "Python 2",
   "language": "python",
   "name": "python2"
  },
  "language_info": {
   "codemirror_mode": {
    "name": "ipython",
    "version": 2
   },
   "file_extension": ".py",
   "mimetype": "text/x-python",
   "name": "python",
   "nbconvert_exporter": "python",
   "pygments_lexer": "ipython2",
   "version": "2.7.12"
  }
 },
 "nbformat": 4,
 "nbformat_minor": 0
}
